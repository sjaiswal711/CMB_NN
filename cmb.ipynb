{
 "cells": [
  {
   "cell_type": "code",
   "execution_count": 1,
   "id": "fefc27f8-f2de-4405-99fc-903b7e29e729",
   "metadata": {},
   "outputs": [
    {
     "name": "stderr",
     "output_type": "stream",
     "text": [
      "/usr/lib/python3/dist-packages/scipy/__init__.py:146: UserWarning: A NumPy version >=1.17.3 and <1.25.0 is required for this version of SciPy (detected version 1.26.1\n",
      "  warnings.warn(f\"A NumPy version >={np_minversion} and <{np_maxversion}\"\n"
     ]
    }
   ],
   "source": [
    "import time\n",
    "import numpy as np \n",
    "import healpy as hp\n",
    "from tqdm import tqdm\n"
   ]
  },
  {
   "cell_type": "code",
   "execution_count": 2,
   "id": "6017ae33-6080-48fe-b0bb-46324b4fa6ee",
   "metadata": {},
   "outputs": [
    {
     "name": "stderr",
     "output_type": "stream",
     "text": [
      "setting the output map dtype to [dtype('float64')]\n"
     ]
    },
    {
     "data": {
      "image/png": "[encoded data removed]",
      "text/plain": [
       "<Figure size 850x540 with 2 Axes>"
      ]
     },
     "metadata": {},
     "output_type": "display_data"
    }
   ],
   "source": [
    "nside1 = 1024\n",
    "nside2 = 32\n",
    "map1 = np.zeros(12 * nside1 * nside1)\n",
    "\n",
    "# Fill the map1 array\n",
    "for i in range(12 * 32 * 32):\n",
    "    vec1 = hp.pix2vec(32, i,nest=True)\n",
    "    pix = hp.vec2pix(1024, vec1[0], vec1[1], vec1[2],nest=True)\n",
    "    map1[pix] = 1\n",
    "\n",
    "# Write the map1 array to a FITS file\n",
    "hp.write_map(\"map1.fits\", map1, overwrite=True,nest=True)\n",
    "hp.mollview(map1,nest=True)"
   ]
  },
  {
   "cell_type": "code",
   "execution_count": 3,
   "id": "e8c2e272-5c79-47e5-867a-d33db4d35bee",
   "metadata": {},
   "outputs": [],
   "source": [
    "\n",
    "def RVector(t):\n",
    "    theta1 = 7.5*np.pi / 180\n",
    "    theta2 = 85*np.pi / 180\n",
    "    w1 = 2*np.pi / 60 #rad/sec\n",
    "    w2 = 2*w1 #rad/sec\n",
    "    w3 = 3.14159 / 60 #rad/sec\n",
    "    \n",
    "    A=[[np.cos(w1*t),np.sin(w1*t),0],\n",
    "       [-np.sin(w1*t),np.cos(w1*t),0],\n",
    "       [0,0,1]]\n",
    "    \n",
    "    B=[[1,0,0],\n",
    "       [0,np.cos(w2*t),np.sin(w2*t)],\n",
    "       [0,-np.sin(w2*t),np.cos(w2*t)]]\n",
    "    \n",
    "    C=[[np.cos(theta1),0,np.sin(theta1)],\n",
    "       [0,1,0],\n",
    "       [-np.sin(theta1),0,np.cos(theta1)]]\n",
    "    \n",
    "    D=[[np.cos(theta2)],\n",
    "       [np.sin(theta2)*np.cos(w3*t)],\n",
    "       [np.sin(theta2)*np.sin(w3*t)]]\n",
    "    \n",
    "    result1 = np.matmul(A,B)\n",
    "    result2 = np.matmul(result1,C)\n",
    "    result = np.matmul(result2,D)\n",
    "\n",
    "    return result\n",
    "\n",
    "def SVector(t):\n",
    "    theta1 = 7.5*np.pi / 180\n",
    "    theta2 = 0\n",
    "    w1 = 2*np.pi / 60 #rad/sec\n",
    "    # w1 = 0.000011954 / 60 #rad/sec\n",
    "    w2 = 2*w1  #rad/sec\n",
    "    w3 = 3.14159 / 60 #rad/sec\n",
    "    \n",
    "    A=[[np.cos(w1*t),np.sin(w1*t),0],\n",
    "       [-np.sin(w1*t),np.cos(w1*t),0],\n",
    "       [0,0,1]]\n",
    "    \n",
    "    B=[[1,0,0],\n",
    "       [0,np.cos(w2*t),np.sin(w2*t)],\n",
    "       [0,-np.sin(w2*t),np.cos(w2*t)]]\n",
    "    \n",
    "    C=[[np.cos(theta1),0,np.sin(theta1)],\n",
    "       [0,1,0],\n",
    "       [-np.sin(theta1),0,np.cos(theta1)]]\n",
    "    \n",
    "    D=[[np.cos(theta2)],\n",
    "       [-np.sin(theta2)*np.cos(w3*t)],\n",
    "       [-np.sin(theta2)*np.sin(w3*t)]]\n",
    "    \n",
    "    result1 = np.dot(A,B)\n",
    "    result2 = np.dot(C,D)\n",
    "    result = np.dot(result1,result2)\n",
    "    return result\n",
    "    \n",
    "# angular saperation between two pixel\n",
    "def ang_distance(theta1,theta2,phi1,phi2):\n",
    "    # cos(∆θ) = sin(θ1)sin(θ2)cos(φ1 - φ2) + cos(θ1)cos(θ2)\n",
    "    theta = np.arccos(np.cos(theta1) * np.cos(theta2) + np.sin(theta1) * np.sin(theta2) * np.cos(phi1 - phi2))\n",
    "    return theta\n",
    "\n",
    "\n",
    "def process_time_step(time_step):\n",
    "    \n",
    "    t = time_step  \n",
    "\n",
    "    # 1. Calculate R(t) and S(t) vectors\n",
    "    R = RVector(t)\n",
    "    S = SVector(t)\n",
    "\n",
    "    # 2. Calculate pixel number along R(t) vector (ring format)\n",
    "    theta_R, phi_R = hp.vec2ang(R)\n",
    "    pic_ring = hp.ang2pix(nside, theta=theta_R, phi=phi_R)\n",
    "\n",
    "    # 3. Convert to NEST format\n",
    "    nest_pix = hp.ring2nest(nside, pic_ring)\n",
    "\n",
    "    # 4. Find neighboring pixels in NEST format\n",
    "    # neighbours = hp.get_all_neighbours(nside, nest_pix,nest=True)\n",
    "    neighbours = hp.query_disc(nside, R , radius=np.radians(0.75),nest = True)\n",
    "\n",
    "    # 5. angular separation central pixel to neighbor\n",
    "    theta_separations = np.zeros_like(neighbours)\n",
    "    for i, neighbour_pix in enumerate(neighbours):\n",
    "        theta_neighbour, phi_neighbour = hp.pix2ang(nside, neighbour_pix)\n",
    "        theta_separations[i] = ang_distance(theta_R, theta_neighbour, phi_R, phi_neighbour) \n",
    "\n",
    "    # 6. Retrieve temperatures of neighboring pixels\n",
    "    neighbor_temperatures = temperature_map[neighbours]\n",
    "\n",
    "    # 7. Apply the beam convolution\n",
    "    convolved_temperature = np.sum(neighbor_temperatures * np.exp(-theta_separations**2 / (2 * sigma**2))) / np.sum(np.exp(-theta_separations**2 / (2 * sigma**2)))\n",
    "\n",
    "    return int(nest_pix),convolved_temperature\n"
   ]
  },
  {
   "cell_type": "code",
   "execution_count": 4,
   "id": "39cd4e5d-8f1e-424c-a412-52c467485961",
   "metadata": {},
   "outputs": [],
   "source": [
    "theta1 = 7.5*np.pi / 180\n",
    "theta2 = 85*np.pi / 180\n",
    "w1 = 2*np.pi / 60 #rad/sec\n",
    "w2 = 2*w1 #rad/sec\n",
    "w3 = 3.14159 / 60 #rad/sec\n",
    "\n",
    "nside=1024\n",
    "npix = 12*nside**2\n",
    "\n",
    "# time_step=scan_time\n",
    "scan_time = np.sqrt(4*np.pi/npix)/w1\n",
    "fwhm=45 # Example (in degree)\n",
    "sigma = fwhm / np.sqrt(8 * np.log(2)) \n",
    "\n",
    "temperature_map = hp.read_map(\"map1.fits\", nest=True)"
   ]
  },
  {
   "cell_type": "code",
   "execution_count": 5,
   "id": "d8e9851e-33ed-4bce-b32a-72d440ffb357",
   "metadata": {},
   "outputs": [
    {
     "name": "stderr",
     "output_type": "stream",
     "text": [
      "Processing:   0%|                                      | 0/6287 [00:00<?, ?it/s]/tmp/ipykernel_63925/345974403.py:83: DeprecationWarning: Conversion of an array with ndim > 0 to a scalar is deprecated, and will error in future. Ensure you extract a single element from your array before performing this operation. (Deprecated NumPy 1.25.)\n",
      "  neighbours = hp.query_disc(nside, R , radius=np.radians(0.75),nest = True)\n",
      "/tmp/ipykernel_63925/345974403.py:89: DeprecationWarning: Conversion of an array with ndim > 0 to a scalar is deprecated, and will error in future. Ensure you extract a single element from your array before performing this operation. (Deprecated NumPy 1.25.)\n",
      "  theta_separations[i] = ang_distance(theta_R, theta_neighbour, phi_R, phi_neighbour)\n",
      "/tmp/ipykernel_63925/345974403.py:97: DeprecationWarning: Conversion of an array with ndim > 0 to a scalar is deprecated, and will error in future. Ensure you extract a single element from your array before performing this operation. (Deprecated NumPy 1.25.)\n",
      "  return int(nest_pix),convolved_temperature\n",
      "Processing: 100%|██████████████████████████| 6287/6287 [00:41<00:00, 151.07it/s]"
     ]
    },
    {
     "name": "stdout",
     "output_type": "stream",
     "text": [
      "Total execution time: 41.63 seconds\n"
     ]
    },
    {
     "name": "stderr",
     "output_type": "stream",
     "text": [
      "\n"
     ]
    }
   ],
   "source": [
    "start = time.time()\n",
    "\n",
    "start_time=0\n",
    "duration = 60 #in sec\n",
    "steps = int(duration / scan_time)\n",
    "\n",
    "time_periods = np.linspace(start_time, start_time + steps*scan_time, steps)\n",
    "time_periods_iterator = tqdm(time_periods, desc=\"Processing\", total=len(time_periods))\n",
    "with open(\"temperature.dat\", \"a\") as f:  \n",
    "    for time_period in time_periods_iterator:  # Iterate over the tqdm object\n",
    "        pixel,temperature = process_time_step(time_period)\n",
    "        f.write(f\"{time_period:.4f} {pixel} {temperature}\\n\")\n",
    "\n",
    "\n",
    "end = time.time()\n",
    "elapsed_time = end - start\n",
    "print(f\"Total execution time: {elapsed_time:.2f} seconds\")"
   ]
  },
  {
   "cell_type": "code",
   "execution_count": null,
   "id": "8b518554-75f6-42e7-9716-6e0bdeb8ac0d",
   "metadata": {},
   "outputs": [],
   "source": [
    "# 1. Load the data\n",
    "data = np.loadtxt(\"temperature1.dat\")\n",
    "pixels, temperatures4 = data[:, 1].astype(int), data[:, 2]\n",
    "\n",
    "# 2. Create a Healpix map with zeros\n",
    "map_array = np.zeros(npix)\n",
    "# map_array = hp.read_map(\"map1.fits\", nest=True)\n",
    "\n",
    "# 3. Fill in available pixels with temperatures\n",
    "map_array[pixels] = temperatures4\n",
    "# map=np.linspace(0, npix, npix)\n",
    "\n",
    "hp.mollview(map_array,nest=True, title=\"Convolved Temperature Map\", unit=\"K\")\n",
    "# hp.graticule()\n",
    "plt.savefig(\"convolved_temperature_map.png\")\n",
    "plt.show()"
   ]
  }
 ],
 "metadata": {
  "kernelspec": {
   "display_name": "Python 3 (ipykernel)",
   "language": "python",
   "name": "python3"
  },
  "language_info": {
   "codemirror_mode": {
    "name": "ipython",
    "version": 3
   },
   "file_extension": ".py",
   "mimetype": "text/x-python",
   "name": "python",
   "nbconvert_exporter": "python",
   "pygments_lexer": "ipython3",
   "version": "3.10.12"
  }
 },
 "nbformat": 4,
 "nbformat_minor": 5
}
