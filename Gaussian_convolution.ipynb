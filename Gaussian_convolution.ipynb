{
 "cells": [
  {
   "cell_type": "code",
   "execution_count": 1,
   "id": "3103265d-f81f-47a3-b9fb-afd467a745b5",
   "metadata": {},
   "outputs": [
    {
     "name": "stderr",
     "output_type": "stream",
     "text": [
      "/usr/lib/python3/dist-packages/scipy/__init__.py:146: UserWarning: A NumPy version >=1.17.3 and <1.25.0 is required for this version of SciPy (detected version 1.26.1\n",
      "  warnings.warn(f\"A NumPy version >={np_minversion} and <{np_maxversion}\"\n"
     ]
    }
   ],
   "source": [
    "import time\n",
    "import numpy as np \n",
    "import healpy as hp\n",
    "import matplotlib.pyplot as plt"
   ]
  },
  {
   "cell_type": "code",
   "execution_count": 2,
   "id": "e41442ae-9090-4ddf-8d52-83a4c71493ac",
   "metadata": {},
   "outputs": [],
   "source": [
    "def RVector(t):\n",
    "    theta1 = 7.5*np.pi / 180\n",
    "    theta2 = 85*np.pi / 180\n",
    "    w1 = 2*np.pi / 60 #rad/sec\n",
    "    w2 = 2*w1 #rad/sec\n",
    "    w3 = 3.14159 / 60 #rad/sec\n",
    "    \n",
    "    A=[[np.cos(w1*t),np.sin(w1*t),0],\n",
    "       [-np.sin(w1*t),np.cos(w1*t),0],\n",
    "       [0,0,1]]\n",
    "    \n",
    "    B=[[1,0,0],\n",
    "       [0,np.cos(w2*t),np.sin(w2*t)],\n",
    "       [0,-np.sin(w2*t),np.cos(w2*t)]]\n",
    "    \n",
    "    C=[[np.cos(theta1),0,np.sin(theta1)],\n",
    "       [0,1,0],\n",
    "       [-np.sin(theta1),0,np.cos(theta1)]]\n",
    "    \n",
    "    D=[[np.cos(theta2)],\n",
    "       [np.sin(theta2)*np.cos(w3*t)],\n",
    "       [np.sin(theta2)*np.sin(w3*t)]]\n",
    "    \n",
    "    result1 = np.matmul(A,B)\n",
    "    result2 = np.matmul(result1,C)\n",
    "    result = np.matmul(result2,D)\n",
    "\n",
    "    return result"
   ]
  },
  {
   "cell_type": "code",
   "execution_count": 3,
   "id": "98f660e2-b90a-43c6-93ac-61b86436338b",
   "metadata": {},
   "outputs": [],
   "source": [
    "def SVector(t):\n",
    "    theta1 = 7.5*np.pi / 180\n",
    "    theta2 = 0\n",
    "    w1 = 2*np.pi / 60 #rad/sec\n",
    "    # w1 = 0.000011954 / 60 #rad/sec\n",
    "    w2 = 2*w1  #rad/sec\n",
    "    w3 = 3.14159 / 60 #rad/sec\n",
    "    \n",
    "    A=[[np.cos(w1*t),np.sin(w1*t),0],\n",
    "       [-np.sin(w1*t),np.cos(w1*t),0],\n",
    "       [0,0,1]]\n",
    "    \n",
    "    B=[[1,0,0],\n",
    "       [0,np.cos(w2*t),np.sin(w2*t)],\n",
    "       [0,-np.sin(w2*t),np.cos(w2*t)]]\n",
    "    \n",
    "    C=[[np.cos(theta1),0,np.sin(theta1)],\n",
    "       [0,1,0],\n",
    "       [-np.sin(theta1),0,np.cos(theta1)]]\n",
    "    \n",
    "    D=[[np.cos(theta2)],\n",
    "       [-np.sin(theta2)*np.cos(w3*t)],\n",
    "       [-np.sin(theta2)*np.sin(w3*t)]]\n",
    "    \n",
    "    result1 = np.dot(A,B)\n",
    "    result2 = np.dot(C,D)\n",
    "    result = np.dot(result1,result2)\n",
    "    return result"
   ]
  },
  {
   "cell_type": "code",
   "execution_count": 4,
   "id": "7424464d-eb12-4deb-9189-4dc6bb7aedae",
   "metadata": {},
   "outputs": [
    {
     "name": "stdout",
     "output_type": "stream",
     "text": [
      "scan time =  0.009543017810603906 (in sec)\n"
     ]
    }
   ],
   "source": [
    "theta1 = 7.5*np.pi / 180\n",
    "theta2 = 85*np.pi / 180\n",
    "w1 = 2*np.pi / 60 #rad/sec\n",
    "w2 = 2*w1 #rad/sec\n",
    "w3 = 3.14159 / 60 #rad/sec\n",
    "\n",
    "nside=1024\n",
    "npix = 12*nside**2\n",
    "\n",
    "# time_step=scan_time\n",
    "scan_time = np.sqrt(4*np.pi/npix)/w1\n",
    "print(\"scan time = \",scan_time,\"(in sec)\")\n",
    "\n",
    "fwhm=45 # Example (in degree)\n",
    "sigma = fwhm / np.sqrt(8 * np.log(2)) \n"
   ]
  },
  {
   "cell_type": "code",
   "execution_count": 5,
   "id": "89d360ab-3a3e-4b8e-80e8-85f5b75af626",
   "metadata": {},
   "outputs": [
    {
     "name": "stderr",
     "output_type": "stream",
     "text": [
      "setting the output map dtype to [dtype('float64')]\n"
     ]
    },
    {
     "data": {
      "image/png": "[encoded data removed]",
      "text/plain": [
       "<Figure size 850x540 with 2 Axes>"
      ]
     },
     "metadata": {},
     "output_type": "display_data"
    }
   ],
   "source": [
    "# To generate unit temperature map\n",
    "map_array = np.ones(npix) # Creates an array filled with 1s\n",
    "# map_array = np.linspace(0,npix,npix)\n",
    "map = hp.ma(map_array)  # Creates a Healpix map from the array\n",
    "hp.write_map(\"map_in_fits.fits\", map, overwrite=True,)\n",
    "hp.mollview(map)"
   ]
  },
  {
   "cell_type": "code",
   "execution_count": 6,
   "id": "584f0331-ae9f-4fb3-8ac2-b3e6a2705b30",
   "metadata": {},
   "outputs": [],
   "source": [
    "# angular saperation between two pixel\n",
    "def ang_distance(theta1,theta2,phi1,phi2):\n",
    "    # cos(∆θ) = sin(θ1)sin(θ2)cos(φ1 - φ2) + cos(θ1)cos(θ2)\n",
    "    theta = np.arccos(np.cos(theta1) * np.cos(theta2) + np.sin(theta1) * np.sin(theta2) * np.cos(phi1 - phi2))\n",
    "    return theta"
   ]
  },
  {
   "cell_type": "code",
   "execution_count": 7,
   "id": "0e0e9fb5-142a-422a-9bfa-b1f47bf78549",
   "metadata": {},
   "outputs": [
    {
     "name": "stdout",
     "output_type": "stream",
     "text": [
      "0.009543017810603906\n"
     ]
    }
   ],
   "source": [
    "temperature_map = hp.read_map(\"map_in_fits.fits\", nest=True)\n",
    "\n",
    "def process_time_step(time_step):\n",
    "    \n",
    "    t = time_step  \n",
    "\n",
    "    # 1. Calculate R(t) and S(t) vectors\n",
    "    R = RVector(t)\n",
    "    S = SVector(t)\n",
    "\n",
    "    # 2. Calculate pixel number along R(t) vector (ring format)\n",
    "    theta_R, phi_R = hp.vec2ang(R)\n",
    "    pic_ring = hp.ang2pix(nside, theta=theta_R, phi=phi_R)\n",
    "\n",
    "    # 3. Convert to NEST format\n",
    "    nest_pix = hp.ring2nest(nside, pic_ring)\n",
    "\n",
    "    # 4. Find neighboring pixels in NEST format\n",
    "    # neighbours = hp.get_all_neighbours(nside, nest_pix,nest=True)\n",
    "    neighbours = hp.query_disc(nside, R , radius=np.radians(0.75),nest = True)\n",
    "\n",
    "    # 5. angular separation central pixel to neighbor\n",
    "    # theta_separations = np.zeros_like(neighbours)\n",
    "    # for i, neighbour_pix in enumerate(neighbours):\n",
    "    #     theta_neighbour, phi_neighbour = hp.pix2ang(nside, neighbour_pix)\n",
    "    #     theta_separations[i] = ang_distance(theta_R, theta_neighbour, phi_R, phi_neighbour) \n",
    "\n",
    "    # # 6. Retrieve temperatures of neighboring pixels\n",
    "    # # temperature_map = hp.read_map(\"map_in_fits.fits\", verbose=False) \n",
    "    # neighbor_temperatures = temperature_map[neighbours]\n",
    "\n",
    "    # # 7. Apply the beam convolution\n",
    "    # convolved_temperature = np.sum(neighbor_temperatures * np.exp(-theta_separations**2 / (2 * sigma**2))) / np.sum(np.exp(-theta_separations**2 / (2 * sigma**2)))\n",
    "    convolved_temperature=1\n",
    "    # 8. Store the convolved temperature and pixel in a .dat file\n",
    "    # temperature_data.append((nest_pix, convolved_temperature))\n",
    "    # with open(\"temperature.dat\", \"a\") as f:  # Open in append mode\n",
    "    #     f.write(f\"{int(nest_pix)} {convolved_temperature:.4f}\\n\")\n",
    "\n",
    "    return int(nest_pix),convolved_temperature\n",
    "print(scan_time)"
   ]
  },
  {
   "cell_type": "code",
   "execution_count": null,
   "id": "29ad1b76-02a9-44fd-95c5-c1e283d8d2cf",
   "metadata": {
    "scrolled": true
   },
   "outputs": [
    {
     "name": "stdout",
     "output_type": "stream",
     "text": [
      "63376178\n"
     ]
    },
    {
     "name": "stderr",
     "output_type": "stream",
     "text": [
      "/tmp/ipykernel_3551/2892261018.py:20: DeprecationWarning: Conversion of an array with ndim > 0 to a scalar is deprecated, and will error in future. Ensure you extract a single element from your array before performing this operation. (Deprecated NumPy 1.25.)\n",
      "  neighbours = hp.query_disc(nside, R , radius=np.radians(0.75),nest = True)\n",
      "/tmp/ipykernel_3551/2892261018.py:40: DeprecationWarning: Conversion of an array with ndim > 0 to a scalar is deprecated, and will error in future. Ensure you extract a single element from your array before performing this operation. (Deprecated NumPy 1.25.)\n",
      "  return int(nest_pix),convolved_temperature\n"
     ]
    }
   ],
   "source": [
    "# Example time steps\n",
    "start_time = time.time()\n",
    "\n",
    "duration = 60*60*24*7 #in sec\n",
    "steps = int(duration / scan_time)\n",
    "\n",
    "time_periods = np.linspace(2*3395152+2263434+18107479,2*3395152+2263434+18107479+steps,steps)*scan_time\n",
    "# time_periods = np.linspace(0, 1000,1000)*scan_time\n",
    "print(steps)\n",
    "\n",
    "with open(\"temperature5.dat\", \"a\") as f:  \n",
    "    for time_period in time_periods:\n",
    "        pixel,temperature = process_time_step(time_period)\n",
    "        f.write(f\"{time_period:.4f} {pixel} {temperature}\\n\")\n",
    "        \n",
    "\n",
    "end_time = time.time()\n",
    "elapsed_time = end_time - start_time\n",
    "print(f\"Total execution time: {elapsed_time:.2f} seconds\")"
   ]
  },
  {
   "cell_type": "code",
   "execution_count": null,
   "id": "4a489085-11cd-4289-8e58-a15ce22172e6",
   "metadata": {},
   "outputs": [],
   "source": [
    "with open(\"4temperature.dat\", \"r\") as f:\n",
    "    lines = f.readlines()\n",
    "\n",
    "unique_pixels = set()\n",
    "unique_lines = []\n",
    "\n",
    "for line in lines:\n",
    "    time, pixel, temperature = line.split()  # Split into three columns\n",
    "    if pixel not in unique_pixels:\n",
    "        unique_pixels.add(pixel)\n",
    "        unique_lines.append(line)\n",
    "\n",
    "with open(\"temperature_unique.dat\", \"w\") as f:\n",
    "    f.writelines(unique_lines)\n"
   ]
  },
  {
   "cell_type": "code",
   "execution_count": 13,
   "id": "707b6cc2-ecc9-4a5c-8493-5bddbc843589",
   "metadata": {},
   "outputs": [
    {
     "data": {
      "image/png": "[encoded data removed]",
      "text/plain": [
       "<Figure size 850x540 with 2 Axes>"
      ]
     },
     "metadata": {},
     "output_type": "display_data"
    }
   ],
   "source": [
    "# 1. Load the data\n",
    "data = np.loadtxt(\"temperature2.dat\")\n",
    "pixels, temperatures4 = data[:, 1].astype(int), data[:, 2]\n",
    "\n",
    "# 2. Create a Healpix map with zeros\n",
    "map_array = np.zeros(npix)\n",
    "\n",
    "# 3. Fill in available pixels with temperatures\n",
    "map_array[pixels] = temperatures4\n",
    "# map=np.linspace(0, npix, npix)\n",
    "\n",
    "hp.mollview(map_array,nest=True, title=\"Convolved Temperature Map\", unit=\"K\")\n",
    "# hp.graticule()\n",
    "plt.savefig(\"convolved_temperature_map.png\")\n",
    "plt.show()"
   ]
  },
  {
   "cell_type": "code",
   "execution_count": null,
   "id": "4d413d22-3ecf-4ee5-86d5-ed905d3363eb",
   "metadata": {},
   "outputs": [],
   "source": [
    "\n",
    "import os\n",
    "# Open the target file for writing\n",
    "with open(\"combined_temperature.dat\", \"w\") as combined_file:\n",
    "    for i in range(1, 5):\n",
    "        # Open each individual file\n",
    "        with open(f\"{i}temperature.dat\", \"r\") as individual_file:\n",
    "            # Read the entire content\n",
    "            content = individual_file.read()\n",
    "            # Write the content to the combined file\n",
    "            combined_file.write(content)\n",
    "\n",
    "print(\"Data combined successfully!\")\n"
   ]
  },
  {
   "cell_type": "code",
   "execution_count": null,
   "id": "61465361-6350-4e2d-840e-a81ddf2b5b54",
   "metadata": {},
   "outputs": [],
   "source": [
    "all_pixels = []\n",
    "all_temperatures = []\n",
    "for i in range(1, 5):\n",
    "    data = np.loadtxt(f\"{i}temperature.dat\")\n",
    "    pixels, temperatures = data[:, 1].astype(int), data[:, 2]\n",
    "    all_pixels.extend(pixels)\n",
    "    all_temperatures.extend(temperatures)\n",
    "\n",
    "# Create the Healpix map\n",
    "map_array = np.zeros(npix)\n",
    "map_array[all_pixels] = all_temperatures\n",
    "\n",
    "# Plot the map\n",
    "# map = np.linspace(0, npix, npix)  # Not sure how this is used in your plot\n",
    "hp.mollview(map_array, nest=True, title=\"Convolved Temperature Map\", unit=\"K\")\n",
    "# hp.graticule()\n",
    "plt.savefig(\"convolved_temperature_map.png\")\n",
    "plt.show()"
   ]
  },
  {
   "cell_type": "code",
   "execution_count": null,
   "id": "4003beae-7078-49fe-affe-95b75960fca2",
   "metadata": {},
   "outputs": [],
   "source": [
    "print(len(all_pixels))"
   ]
  },
  {
   "cell_type": "code",
   "execution_count": null,
   "id": "b6d435b0-0447-4f25-b44d-1f54bca985e9",
   "metadata": {},
   "outputs": [],
   "source": [
    "# Generate time points\n",
    "t = time_periods\n",
    "# Calculate resulting vectors\n",
    "vectors1 = [RVector(ti) for ti in t]\n",
    "vectors2 = [SVector(ti) for ti in t]\n",
    "\n",
    "# Extract components\n",
    "x1 = [vector[0] for vector in vectors1]\n",
    "y1 = [vector[1] for vector in vectors1]\n",
    "z1 = [vector[2] for vector in vectors1]\n",
    "x2 = [vector[0] for vector in vectors2]\n",
    "y2 = [vector[1] for vector in vectors2]\n",
    "z2 = [vector[2] for vector in vectors2]\n",
    "\n",
    "# Create 3D plot\n",
    "fig = plt.figure()\n",
    "ax = fig.add_subplot(111, projection='3d')\n",
    "\n",
    "ax.scatter(x1, y1, z1)\n",
    "ax.scatter(x2, y2, z2)\n",
    "ax.set_xlabel('X')\n",
    "ax.set_ylabel('Y')\n",
    "ax.set_zlabel('Z')\n",
    "\n",
    "plt.show()"
   ]
  },
  {
   "cell_type": "code",
   "execution_count": null,
   "id": "9dcd4f78-6ec1-475d-956e-9431f21637d9",
   "metadata": {},
   "outputs": [],
   "source": [
    "# For vizualization of neighbouring pixels\n",
    "nside = 64\n",
    "t=20\n",
    "R = RVector(t)\n",
    "\n",
    "theta_R, phi_R = hp.vec2ang(R)\n",
    "pic_ring = hp.ang2pix(nside, theta=theta_R, phi=phi_R)\n",
    "nest_pix = hp.ring2nest(nside, pic_ring)\n",
    "\n",
    "\n",
    "get_all = hp.get_all_neighbours(nside, nest_pix,nest=True)\n",
    "query_disc1 = hp.query_disc(nside, R , radius=np.radians(5),inclusive=True,nest=True)\n",
    "query_disc2 = hp.query_disc(nside, R , radius=np.radians(5),inclusive=False,nest=True)\n",
    "\n",
    "print(\"get_all_neighbours: \",len(get_all))\n",
    "print(\"query_disc(inclusive=True): \",len(query_disc1))\n",
    "print(\"query_disc(inclusive=False): \",len(query_disc2))"
   ]
  },
  {
   "cell_type": "code",
   "execution_count": null,
   "id": "58433e1a-be02-4ea6-b5ec-e364cb15c36f",
   "metadata": {},
   "outputs": [],
   "source": [
    "\n",
    "npix = hp.nside2npix(nside) \n",
    "map_array1 = np.zeros(npix)\n",
    "map_array2 = np.zeros(npix)\n",
    "map_array3 = np.zeros(npix)\n",
    "\n",
    "map_array1[get_all] = 1\n",
    "map_array2[query_disc1] = 1\n",
    "map_array3[query_disc2] = 1\n",
    "\n",
    "hp.mollview(map_array1,title=\"get_all_neighbour\",nest=True) \n",
    "hp.graticule()\n",
    "hp.mollview(map_array2,title=\"query_disc\",nest=True)\n",
    "hp.graticule()\n",
    "plt.show()\n"
   ]
  }
 ],
 "metadata": {
  "kernelspec": {
   "display_name": "Python 3 (ipykernel)",
   "language": "python",
   "name": "python3"
  },
  "language_info": {
   "codemirror_mode": {
    "name": "ipython",
    "version": 3
   },
   "file_extension": ".py",
   "mimetype": "text/x-python",
   "name": "python",
   "nbconvert_exporter": "python",
   "pygments_lexer": "ipython3",
   "version": "3.10.12"
  }
 },
 "nbformat": 4,
 "nbformat_minor": 5
}
