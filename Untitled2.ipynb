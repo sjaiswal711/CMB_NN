{
 "cells": [
  {
   "cell_type": "code",
   "execution_count": 2,
   "id": "f701601d-ceba-4742-8bd4-47668969bb89",
   "metadata": {},
   "outputs": [],
   "source": [
    "import numpy as np\n",
    "import healpy as hp\n",
    "import tensorflow as tf\n",
    "\n",
    "# import scnn.layers\n",
    "# import scnn.dropout\n"
   ]
  },
  {
   "cell_type": "code",
   "execution_count": 3,
   "id": "6cd88cf2-a8d6-4cd7-9e7a-f38104fd30a8",
   "metadata": {},
   "outputs": [],
   "source": [
    "# Network parameters\n",
    "NSIDE = 512\n",
    "FILTER_MAPS = 6\n",
    "POLY_ORDER = 9\n",
    "LENGTH_SCALE = 1e-4\n",
    "\n",
    "# Training parameters\n",
    "EPOCHS = 400\n",
    "BATCH_SIZE = 1\n",
    "N_TRAIN = 800\n",
    "\n",
    "planck_map_freqs = [70, 100, 143, 217, 353, 545, 857]"
   ]
  },
  {
   "cell_type": "code",
   "execution_count": 22,
   "id": "bbfe33e2-5a10-4e29-abc8-1650efdcd6cc",
   "metadata": {},
   "outputs": [],
   "source": [
    "nside = NSIDE\n",
    "filter_maps = FILTER_MAPS\n",
    "poly_order = POLY_ORDER\n",
    "n_train = N_TRAIN\n",
    "length_scale = LENGTH_SCALE"
   ]
  },
  {
   "cell_type": "code",
   "execution_count": 23,
   "id": "568932d0-0d79-4de5-910e-0c37aeecdba5",
   "metadata": {},
   "outputs": [],
   "source": [
    "\n",
    "# Construct nsides list\n",
    "nsides = []\n",
    "i = nside\n",
    "while i >= 1:\n",
    "   nsides.append(i)\n",
    "   i = i // 2\n",
    "nsides += reversed(nsides)"
   ]
  },
  {
   "cell_type": "code",
   "execution_count": 24,
   "id": "926d5226-7d27-4ffe-b611-2ad818b64a9b",
   "metadata": {},
   "outputs": [
    {
     "data": {
      "text/plain": [
       "[512, 256, 128, 64, 32, 16, 8, 4, 2, 1, 1, 2, 4, 8, 16, 32, 64, 128, 256, 512]"
      ]
     },
     "execution_count": 24,
     "metadata": {},
     "output_type": "execute_result"
    }
   ],
   "source": [
    "nsides"
   ]
  },
  {
   "cell_type": "code",
   "execution_count": 25,
   "id": "76ba8214-7a7d-4ecf-bd5a-22747591ad8e",
   "metadata": {},
   "outputs": [],
   "source": [
    "# nside, filter_maps, poly_order, length_scale,"
   ]
  },
  {
   "cell_type": "code",
   "execution_count": 26,
   "id": "cf3248c4-dd0a-4b8a-a262-8ebf5cb68550",
   "metadata": {},
   "outputs": [],
   "source": [
    "filters = [filter_maps] * len(nsides) + [2]"
   ]
  },
  {
   "cell_type": "code",
   "execution_count": 27,
   "id": "5eb1ec04-bfb4-4fa8-ab5b-9b241f78ff85",
   "metadata": {},
   "outputs": [
    {
     "data": {
      "text/plain": [
       "[6, 6, 6, 6, 6, 6, 6, 6, 6, 6, 6, 6, 6, 6, 6, 6, 6, 6, 6, 6, 2]"
      ]
     },
     "execution_count": 27,
     "metadata": {},
     "output_type": "execute_result"
    }
   ],
   "source": [
    "filters"
   ]
  },
  {
   "cell_type": "code",
   "execution_count": 28,
   "id": "ae0fe6c5-fa13-45db-a64e-1edac9dd2260",
   "metadata": {},
   "outputs": [],
   "source": [
    "poly_k = [poly_order] * len(nsides)"
   ]
  },
  {
   "cell_type": "code",
   "execution_count": 29,
   "id": "1ee0a8d1-e3c4-493d-b77c-0b43a77b73a7",
   "metadata": {},
   "outputs": [
    {
     "data": {
      "text/plain": [
       "[9, 9, 9, 9, 9, 9, 9, 9, 9, 9, 9, 9, 9, 9, 9, 9, 9, 9, 9, 9]"
      ]
     },
     "execution_count": 29,
     "metadata": {},
     "output_type": "execute_result"
    }
   ],
   "source": [
    "poly_k"
   ]
  },
  {
   "cell_type": "code",
   "execution_count": 30,
   "id": "72be29f2-3cf2-449c-95a6-f02c1a2ed8b0",
   "metadata": {},
   "outputs": [],
   "source": [
    "n = n_train\n",
    "wd = length_scale ** 2.0 / n\n",
    "dd = 2.0 / n"
   ]
  },
  {
   "cell_type": "code",
   "execution_count": 31,
   "id": "e02847b5-2fb1-4239-877a-d4ad0f2dab55",
   "metadata": {},
   "outputs": [
    {
     "data": {
      "text/plain": [
       "(800, 1.25e-11, 0.0025)"
      ]
     },
     "execution_count": 31,
     "metadata": {},
     "output_type": "execute_result"
    }
   ],
   "source": [
    "n,wd,dd"
   ]
  },
  {
   "cell_type": "code",
   "execution_count": 32,
   "id": "6cfd3451-b218-4fcc-964e-fa5061d871d1",
   "metadata": {},
   "outputs": [],
   "source": [
    "num_downscales = len(nsides) // 2\n"
   ]
  },
  {
   "cell_type": "code",
   "execution_count": 33,
   "id": "c43d86ff-6a9e-4c0f-814a-02431f331731",
   "metadata": {},
   "outputs": [
    {
     "data": {
      "text/plain": [
       "10"
      ]
     },
     "execution_count": 33,
     "metadata": {},
     "output_type": "execute_result"
    }
   ],
   "source": [
    "num_downscales"
   ]
  },
  {
   "cell_type": "code",
   "execution_count": null,
   "id": "a3bb03c4-6835-435f-99a0-0f2ba1e644a5",
   "metadata": {},
   "outputs": [],
   "source": []
  }
 ],
 "metadata": {
  "kernelspec": {
   "display_name": "Python 3 (ipykernel)",
   "language": "python",
   "name": "python3"
  },
  "language_info": {
   "codemirror_mode": {
    "name": "ipython",
    "version": 3
   },
   "file_extension": ".py",
   "mimetype": "text/x-python",
   "name": "python",
   "nbconvert_exporter": "python",
   "pygments_lexer": "ipython3",
   "version": "3.10.12"
  }
 },
 "nbformat": 4,
 "nbformat_minor": 5
}
